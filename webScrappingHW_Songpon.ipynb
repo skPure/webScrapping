{
  "nbformat": 4,
  "nbformat_minor": 0,
  "metadata": {
    "colab": {
      "name": "webScrappingHW_Songpon.ipynb",
      "provenance": []
    },
    "kernelspec": {
      "name": "python3",
      "display_name": "Python 3"
    }
  },
  "cells": [
    {
      "cell_type": "markdown",
      "metadata": {
        "id": "pH0eRvf6QXFa",
        "colab_type": "text"
      },
      "source": [
        "**ทรงพล 62199130373**"
      ]
    },
    {
      "cell_type": "code",
      "metadata": {
        "id": "Ip6Zd_nSQX7D",
        "colab_type": "code",
        "colab": {}
      },
      "source": [
        "from requests import get\n",
        "from bs4 import BeautifulSoup"
      ],
      "execution_count": 0,
      "outputs": []
    },
    {
      "cell_type": "markdown",
      "metadata": {
        "id": "RyzMKWLiOL7v",
        "colab_type": "text"
      },
      "source": [
        "**Workplace**"
      ]
    },
    {
      "cell_type": "code",
      "metadata": {
        "id": "j97nwTX9OJa_",
        "colab_type": "code",
        "colab": {}
      },
      "source": [
        "url = \"https://www.airvisual.com/thailand/bangkok/pathum-wan\"\n",
        "response = get(url)"
      ],
      "execution_count": 0,
      "outputs": []
    },
    {
      "cell_type": "code",
      "metadata": {
        "id": "JYh05nKtGSpR",
        "colab_type": "code",
        "colab": {}
      },
      "source": [
        "html_soup = BeautifulSoup(response.text, 'html.parser')"
      ],
      "execution_count": 0,
      "outputs": []
    },
    {
      "cell_type": "code",
      "metadata": {
        "id": "grqxlkb1GllS",
        "colab_type": "code",
        "outputId": "b96e77af-0f9c-4a5f-d777-a9c2c8ed1db7",
        "colab": {
          "base_uri": "https://localhost:8080/",
          "height": 51
        }
      },
      "source": [
        "airvisual_containers = html_soup.find_all('span', class_ = 'aqi')\n",
        "print(type(airvisual_containers))\n",
        "print(len(airvisual_containers))"
      ],
      "execution_count": 4,
      "outputs": [
        {
          "output_type": "stream",
          "text": [
            "<class 'bs4.element.ResultSet'>\n",
            "2\n"
          ],
          "name": "stdout"
        }
      ]
    },
    {
      "cell_type": "code",
      "metadata": {
        "id": "eBStwmgQH58Y",
        "colab_type": "code",
        "outputId": "c1f0fc2b-e028-43b8-a707-59b2b8a923d7",
        "colab": {
          "base_uri": "https://localhost:8080/",
          "height": 34
        }
      },
      "source": [
        "pathumwan_airvisual = airvisual_containers[0]\n",
        "'Pathumwan air quality index (AQI) and PM2.5 air pollution is ' + pathumwan_airvisual.text.replace('US', ' US')"
      ],
      "execution_count": 5,
      "outputs": [
        {
          "output_type": "execute_result",
          "data": {
            "text/plain": [
              "'Pathumwan air quality index (AQI) and PM2.5 air pollution is 66 US AQI'"
            ]
          },
          "metadata": {
            "tags": []
          },
          "execution_count": 5
        }
      ]
    },
    {
      "cell_type": "markdown",
      "metadata": {
        "id": "jtBWjoWROhZ6",
        "colab_type": "text"
      },
      "source": [
        "**At home**"
      ]
    },
    {
      "cell_type": "code",
      "metadata": {
        "id": "bTrbGWHnOzR2",
        "colab_type": "code",
        "colab": {}
      },
      "source": [
        "url = \"https://www.airvisual.com/thailand/bangkok/bang-na\"\n",
        "response = get(url)"
      ],
      "execution_count": 0,
      "outputs": []
    },
    {
      "cell_type": "code",
      "metadata": {
        "id": "QVIsYg3-PPgJ",
        "colab_type": "code",
        "colab": {}
      },
      "source": [
        "html_soup = BeautifulSoup(response.text, 'html.parser')"
      ],
      "execution_count": 0,
      "outputs": []
    },
    {
      "cell_type": "code",
      "metadata": {
        "id": "d6xAP1IYPgxG",
        "colab_type": "code",
        "colab": {}
      },
      "source": [
        "airvisual_containers = html_soup.find_all('span', class_ = 'aqi')"
      ],
      "execution_count": 0,
      "outputs": []
    },
    {
      "cell_type": "code",
      "metadata": {
        "id": "ghrlhMfCPkGY",
        "colab_type": "code",
        "outputId": "1341bb6a-b711-465e-8e30-65eed0aa1a05",
        "colab": {
          "base_uri": "https://localhost:8080/",
          "height": 34
        }
      },
      "source": [
        "bangna_airvisual = airvisual_containers[0]\n",
        "'Bangna air quality index (AQI) and PM2.5 air pollution is ' + bangna_airvisual.text.replace('US', ' US')"
      ],
      "execution_count": 9,
      "outputs": [
        {
          "output_type": "execute_result",
          "data": {
            "text/plain": [
              "'Bangna air quality index (AQI) and PM2.5 air pollution is 54 US AQI'"
            ]
          },
          "metadata": {
            "tags": []
          },
          "execution_count": 9
        }
      ]
    }
  ]
}